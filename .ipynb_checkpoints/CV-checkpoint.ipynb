{
 "cells": [
  {
   "cell_type": "code",
   "execution_count": null,
   "metadata": {},
   "outputs": [],
   "source": [
    "import matplotlib.pyplot as plt\n",
    "import sys\n",
    "from PIL import Image\n",
    "import numpy as np\n",
    "sys.setrecursionlimit(50000)\n",
    "%matplotlib inline\n",
    "import colorsys\n",
    "from copy import copy, deepcopy\n",
    "from sklearn.cluster import KMeans"
   ]
  },
  {
   "cell_type": "code",
   "execution_count": null,
   "metadata": {},
   "outputs": [],
   "source": [
    "def read_img(filename):\n",
    "    im=Image.open(filename)\n",
    "    return im\n",
    "    \n",
    "def to_matrix(img):\n",
    "    img = img.convert('L')\n",
    "    bw = np.asarray(img).copy()\n",
    "    return bw\n",
    "    #bwf = bw.flatten();"
   ]
  },
  {
   "cell_type": "code",
   "execution_count": null,
   "metadata": {},
   "outputs": [],
   "source": [
    "filename = \"fly2.jpg\"\n",
    "clusters = {\n",
    "    \"red\" : [200, 0, 0],\n",
    "    \"green\" : [130, 255, 0],\n",
    "    \"white\" : [255, 255, 255],\n",
    "    #\"yellow\" : [250, 240, 0],\n",
    "    \"black\" : [0, 0, 0]\n",
    "}\n"
   ]
  },
  {
   "cell_type": "code",
   "execution_count": null,
   "metadata": {},
   "outputs": [],
   "source": [
    "class DominantColors:\n",
    "    \n",
    "    img_row = None\n",
    "    image = None\n",
    "    colors = None\n",
    "    labels = None\n",
    "    clusters = None\n",
    "    max_iterations = None\n",
    "    \n",
    "    def __init__(self, image, clusters=3, max_iter= 100):\n",
    "        self.clusters = clusters\n",
    "        self.image = image\n",
    "        self.max_iterations = max_iter\n",
    "        \n",
    "    def dominant_colors(self):\n",
    "        self.img_row = self.reshape_to_list(image)\n",
    "        kmeans = KMeans(n_clusters = self.clusters, algorithm = \"full\", max_iter = self.max_iterations, verbose=True)\n",
    "        print(\"Processing: \" + str(len(self.img_row)))\n",
    "        kmeans.fit(self.img_row)\n",
    "        self.colors = kmeans.cluster_centers_\n",
    "        self.labels = kmeans.labels_\n",
    "        return self.colors.astype(int)\n",
    "    \n",
    "    def reshape_to_list(self, matrix):\n",
    "        result = []\n",
    "        for row in matrix:\n",
    "            for point in row:\n",
    "                result.append(row)\n",
    "        return result        \n",
    "        \n",
    "    def rgb_to_hex(self, rgb):\n",
    "        return '#%02x%02x%02x' % (int(rgb[0]), int(rgb[1]), int(rgb[2]))\n",
    "    \n",
    "    def plot_clusters(self):\n",
    "        #plotting \n",
    "        fig = plt.figure()\n",
    "        ax = Axes3D(fig)        \n",
    "        for label, pix in zip(self.labels,self.img_row):\n",
    "            ax.scatter(pix[0], pix[1], pix[2], color = self.rgb_to_hex(self.colors[label]))\n",
    "        plt.show()"
   ]
  },
  {
   "cell_type": "code",
   "execution_count": null,
   "metadata": {},
   "outputs": [],
   "source": [
    "def euclidian_diff(p1, p2):\n",
    "    s = 0\n",
    "    for i in range(len(p1)):\n",
    "        s = s + (p1[i] - p2[i]) ** 2\n",
    "    return s ** 1/2    \n",
    "        \n",
    "def closest(point):\n",
    "    res = list(clusters.values())[0]\n",
    "    for cluster_p in clusters.values():\n",
    "        if(euclidian_diff(cluster_p, point) < euclidian_diff(res, point)):\n",
    "            res = cluster_p\n",
    "    return res"
   ]
  },
  {
   "cell_type": "code",
   "execution_count": null,
   "metadata": {},
   "outputs": [],
   "source": [
    "def points_diff(p_source, p_targe):\n",
    "    h_s,_ ,_  = colorsys.rgb_to_hsv(p_source[0], p_source[1] , p_source[2])\n",
    "    h_t,_ ,_  = colorsys.rgb_to_hsv(p_targe[0], p_targe[1] , p_targe[2])\n",
    "    return abs(h_t - h_s)\n",
    "\n",
    "def move_colour(point, h_diff):\n",
    "    h, s, v = colorsys.rgb_to_hsv(point[0], point[1] , point[2])\n",
    "    h_new = h + h_diff\n",
    "    if(h_new > 1): h_new = h_new - 1\n",
    "    return list(colorsys.hsv_to_rgb(h_new , s, v))"
   ]
  },
  {
   "cell_type": "code",
   "execution_count": null,
   "metadata": {},
   "outputs": [],
   "source": [
    "def show(img_matrix):\n",
    "    arr = np.asarray(img_matrix)\n",
    "    i = Image.fromarray(arr.astype('uint8'), 'RGB')\n",
    "    plt.imshow(i)\n",
    "    plt.show()"
   ]
  },
  {
   "cell_type": "code",
   "execution_count": null,
   "metadata": {},
   "outputs": [],
   "source": [
    "def change_colour(source, target, processed, original):\n",
    "    result = deepcopy(original)\n",
    "    diff = points_diff(source, target)\n",
    "    for y in range(len(result)):\n",
    "        for x in range(len(result[y])):\n",
    "            point = result[y][x]\n",
    "            if(processed[y][x] == source):\n",
    "                result[y][x] = move_colour(point, diff)\n",
    "    return result\n",
    "   \n",
    "def load(filename):\n",
    "    img = read_img(filename)\n",
    "    width, height = img.size\n",
    "    image = img.load()\n",
    "    original = [[[0, 0, 0] for i in range(width)] for j in range(height)]\n",
    "    for y in range(height):\n",
    "        for x in range(width):\n",
    "            original[y][x] = list(image[x, y])\n",
    "    return original \n",
    "\n",
    "def process(image, clusters):\n",
    "    processed_img = [[[0, 0, 0] for i in range(width)] for j in range(height)]\n",
    "    for y in range(len(image)):\n",
    "        for x in range(len(image[y])):\n",
    "            processed_img[y][x] = closest(image[x, y])\n",
    "    return processed_img"
   ]
  },
  {
   "cell_type": "code",
   "execution_count": null,
   "metadata": {},
   "outputs": [],
   "source": [
    "original = load(filename)\n",
    "show(image)"
   ]
  },
  {
   "cell_type": "code",
   "execution_count": null,
   "metadata": {},
   "outputs": [],
   "source": [
    "clusters_n = 3;\n",
    "dom_col = DominantColors(original, clusters_n, 10)\n",
    "clusters = dom_col.dominant_colors()\n",
    "print(clusters)"
   ]
  },
  {
   "cell_type": "code",
   "execution_count": null,
   "metadata": {},
   "outputs": [],
   "source": [
    "dom_col.plot_clusters()"
   ]
  },
  {
   "cell_type": "code",
   "execution_count": null,
   "metadata": {
    "scrolled": false
   },
   "outputs": [],
   "source": [
    "processed = process(original, clusters)"
   ]
  },
  {
   "cell_type": "code",
   "execution_count": null,
   "metadata": {},
   "outputs": [],
   "source": [
    "show(processed)"
   ]
  },
  {
   "cell_type": "code",
   "execution_count": null,
   "metadata": {},
   "outputs": [],
   "source": [
    "to_clour = [247, 247, 0]\n",
    "source_colour = clusters[\"red\"]\n",
    "changed = change_colour(source_colour, to_clour, processed, original)\n",
    "show(changed)"
   ]
  },
  {
   "cell_type": "code",
   "execution_count": null,
   "metadata": {},
   "outputs": [],
   "source": [
    "to_clour = [255, 0, 50]\n",
    "source_colour = clusters[\"red\"]\n",
    "changed = change_colour(source_colour, to_clour, processed, original)\n",
    "show(changed)"
   ]
  },
  {
   "cell_type": "code",
   "execution_count": null,
   "metadata": {},
   "outputs": [],
   "source": [
    "to_clour = [0,255,0]\n",
    "source_colour = clusters[\"red\"]\n",
    "changed = change_colour(source_colour, to_clour, processed, original)\n",
    "show(changed)"
   ]
  },
  {
   "cell_type": "code",
   "execution_count": null,
   "metadata": {},
   "outputs": [],
   "source": [
    "to_clour = [0,0,255]\n",
    "source_colour = clusters[\"red\"]\n",
    "changed = change_colour(source_colour, to_clour, processed, original)\n",
    "show(changed)"
   ]
  },
  {
   "cell_type": "code",
   "execution_count": null,
   "metadata": {},
   "outputs": [],
   "source": [
    "to_clour = [100, 30, 90]\n",
    "source_colour = clusters[\"red\"]\n",
    "changed = change_colour(source_colour, to_clour, processed, original)\n",
    "show(changed)"
   ]
  }
 ],
 "metadata": {
  "kernelspec": {
   "display_name": "Python 3",
   "language": "python",
   "name": "python3"
  },
  "language_info": {
   "codemirror_mode": {
    "name": "ipython",
    "version": 3
   },
   "file_extension": ".py",
   "mimetype": "text/x-python",
   "name": "python",
   "nbconvert_exporter": "python",
   "pygments_lexer": "ipython3",
   "version": "3.6.4"
  }
 },
 "nbformat": 4,
 "nbformat_minor": 2
}
